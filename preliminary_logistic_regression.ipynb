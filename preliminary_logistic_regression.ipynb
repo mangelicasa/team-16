{
 "cells": [
  {
   "cell_type": "code",
   "execution_count": 8,
   "metadata": {},
   "outputs": [
    {
     "name": "stdout",
     "output_type": "stream",
     "text": [
      "[ 1. -1.  2. -9. -8.]\n"
     ]
    }
   ],
   "source": [
    "#!pip install pyreadstat\n",
    "import pyreadstat\n",
    "import pandas as pd\n",
    "\n",
    "df_path = \"anes_timeseries_2020_stata_20210324.dta\"\n"
   ]
  },
  {
   "cell_type": "code",
   "execution_count": 72,
   "metadata": {},
   "outputs": [],
   "source": [
    "import numpy as np\n",
    "import pandas as pd\n",
    "import matplotlib.pyplot as plt\n",
    "from scipy.stats import multivariate_normal, bernoulli, beta, norm\n",
    "from scipy.special import expit as logistic_sigmoid\n",
    "import statsmodels.api as sm\n",
    "from sklearn.datasets import load_iris\n",
    "from sklearn.linear_model import LogisticRegression\n",
    "from sklearn.model_selection import train_test_split\n",
    "from sklearn.metrics import log_loss\n",
    "from sklearn.metrics import classification_report, confusion_matrix, accuracy_score\n"
   ]
  },
  {
   "cell_type": "code",
   "execution_count": 75,
   "metadata": {},
   "outputs": [
    {
     "name": "stdout",
     "output_type": "stream",
     "text": [
      "8280\n",
      "Shape before filtering: (8280, 1381)\n",
      "Shape after filtering: (7272, 1381)\n",
      "Number of people who prefer Trump: 3016\n",
      "size of Y: 7138\n",
      "size of X_df: 7138\n",
      "size of X_with_intercept: 7138\n"
     ]
    }
   ],
   "source": [
    "# Read file\n",
    "df, meta = pyreadstat.read_dta(df_path)\n",
    "print(len(df['V200001'].unique())) # number of unique people who responded, should be equal to length of df before filtering\n",
    "\n",
    "# Keep only observations from respondents who say they intend to vote\n",
    "print(\"Shape before filtering:\", df.shape)\n",
    "df = df[df['V201032'].isin([1.])]\n",
    "print(\"Shape after filtering:\", df.shape)\n",
    "\n",
    "# Define the outcome of interest as 1 if the voter will vote for the Republicans, 0 otherwise\n",
    "df = df[(df['V201033'] != -9) & (df['V201033'] != -8)]\n",
    "trump_votes_count = df['V201033'].value_counts().get(2.0, 0)\n",
    "print(\"Number of people who prefer Trump:\", trump_votes_count)\n",
    "\n",
    "# Create binary outcome variable Y\n",
    "Y = df['V201033'].apply(lambda x: 1 if x == 2.0 else 0)\n",
    "\n",
    "# Filter out missing values from X_df based on indices of Y\n",
    "X_df = pd.DataFrame({\n",
    "    'Age': pd.to_numeric(df['V201507x'], errors='coerce'),\n",
    "    'College_Degree_or_Higher': df['V201510'].apply(lambda x: 1 if x in [\"6. Bachelor's degree (e.g. BA, AB, BS)\", \"7. Master's degree (e.g. MA, MS, MEng, MEd, MSW, MBA)\", \"4. Associate degree in college - occupational/vocational\", \"5. Associate degree in college - academic\"] else 0),\n",
    "    'Trust_in_Media': df['V201377'].apply(lambda x: 1 if (x == 5 or x == 4 or x == 3) else 0)\n",
    "})\n",
    "\n",
    "# Ensure consistent indices and drop missing values\n",
    "X_df = X_df.dropna()\n",
    "Y = Y.dropna()\n",
    "Y = Y.loc[X_df.index]\n",
    "print(f'size of Y: {len(Y)}')\n",
    "print(f'size of X_df: {len(X_df)}')\n",
    "\n",
    "# Create design matrix\n",
    "X_with_intercept = sm.add_constant(X_df)\n",
    "print(f'size of X_with_intercept: {len(X_with_intercept)}')"
   ]
  },
  {
   "cell_type": "code",
   "execution_count": 80,
   "metadata": {},
   "outputs": [
    {
     "name": "stdout",
     "output_type": "stream",
     "text": [
      "Classification Report:\n",
      "              precision    recall  f1-score   support\n",
      "\n",
      "           0       0.83      0.75      0.79      1206\n",
      "           1       0.71      0.81      0.76       936\n",
      "\n",
      "    accuracy                           0.77      2142\n",
      "   macro avg       0.77      0.78      0.77      2142\n",
      "weighted avg       0.78      0.77      0.77      2142\n",
      "\n",
      "\n",
      "Confusion Matrix:\n",
      "[[899 307]\n",
      " [178 758]]\n",
      "Accuracy:  0.7736\n"
     ]
    }
   ],
   "source": [
    "def logistic_regression(X, y, test_size=0.2, random_state=None):\n",
    "    # Split data into train and test sets\n",
    "    X_train, X_test, y_train, y_test = train_test_split(X, y, test_size=test_size, random_state=random_state)\n",
    "\n",
    "    # Initialize logistic regression model\n",
    "    log_reg_model = LogisticRegression()\n",
    "\n",
    "    # Fit the model on the training data\n",
    "    log_reg_model.fit(X_train, y_train)\n",
    "\n",
    "    # Predictions on the test data\n",
    "    y_pred = log_reg_model.predict(X_test)\n",
    "\n",
    "    # Evaluate the model\n",
    "    classification_rep = classification_report(y_test, y_pred)\n",
    "    conf_matrix = confusion_matrix(y_test, y_pred)\n",
    "    accuracy = accuracy_score(y_test, y_pred)\n",
    "\n",
    "    return classification_rep, conf_matrix, accuracy\n",
    "\n",
    "classification_rep, conf_matrix, accuracy = logistic_regression(X_with_intercept, Y, test_size=0.3, random_state=420)\n",
    "print(\"Classification Report:\")\n",
    "print(classification_rep)\n",
    "print(\"\\nConfusion Matrix:\")\n",
    "print(conf_matrix)\n",
    "print(f'Accuracy:  {accuracy:.4f}')"
   ]
  }
 ],
 "metadata": {
  "kernelspec": {
   "display_name": "Python 3 (ipykernel)",
   "language": "python",
   "name": "python3"
  },
  "language_info": {
   "codemirror_mode": {
    "name": "ipython",
    "version": 3
   },
   "file_extension": ".py",
   "mimetype": "text/x-python",
   "name": "python",
   "nbconvert_exporter": "python",
   "pygments_lexer": "ipython3",
   "version": "3.9.12"
  }
 },
 "nbformat": 4,
 "nbformat_minor": 4
}
