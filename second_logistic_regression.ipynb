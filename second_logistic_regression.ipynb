{
 "cells": [
  {
   "cell_type": "code",
   "execution_count": 1,
   "metadata": {},
   "outputs": [],
   "source": [
    "#!pip install pyreadstat\n",
    "import pyreadstat\n",
    "import pandas as pd\n",
    "\n",
    "df_path = \"anes_timeseries_2020_stata_20210324.dta\""
   ]
  },
  {
   "cell_type": "code",
   "execution_count": 2,
   "metadata": {},
   "outputs": [],
   "source": [
    "import numpy as np\n",
    "import pandas as pd\n",
    "import matplotlib.pyplot as plt\n",
    "from scipy.stats import multivariate_normal, bernoulli, beta, norm\n",
    "from scipy.special import expit as logistic_sigmoid\n",
    "import statsmodels.api as sm\n",
    "from sklearn.datasets import load_iris\n",
    "from sklearn.linear_model import LogisticRegression\n",
    "from sklearn.model_selection import train_test_split\n",
    "from sklearn.metrics import log_loss\n",
    "from sklearn.metrics import classification_report, confusion_matrix, accuracy_score\n"
   ]
  },
  {
   "cell_type": "code",
   "execution_count": 13,
   "metadata": {},
   "outputs": [],
   "source": [
    "def find_unique(column):\n",
    "    unique_values = df[column].unique()\n",
    "    print(f\"Unique values in df[{column}]:\")\n",
    "    print(unique_values)"
   ]
  },
  {
   "cell_type": "code",
   "execution_count": 16,
   "metadata": {},
   "outputs": [
    {
     "name": "stdout",
     "output_type": "stream",
     "text": [
      "8280\n",
      "Shape before filtering: (8280, 1381)\n",
      "Shape after filtering: (7272, 1381)\n",
      "Number of people who prefer Trump: 3016\n",
      "Unique values in df[V201549x]:\n",
      "[ 3.  4.  1.  5.  2. -9.  6. -8.]\n",
      "size of Y: 7138\n",
      "size of X_df: 7138\n",
      "size of X_with_intercept: 7138\n",
      "   const   Age  College_Degree_or_Higher  Trust_in_Media  Sex_Female  \\\n",
      "0    1.0  46.0                         1               0           0   \n",
      "1    1.0  37.0                         0               0           1   \n",
      "2    1.0  40.0                         0               1           1   \n",
      "3    1.0  41.0                         1               1           0   \n",
      "4    1.0  72.0                         0               0           0   \n",
      "\n",
      "   Ethnicity_NonWhite  Sexual_Orientation_Lgbtq  \n",
      "0                   0                         0  \n",
      "1                   0                         0  \n",
      "2                   1                         0  \n",
      "3                   0                         0  \n",
      "4                   0                         0  \n"
     ]
    }
   ],
   "source": [
    "# Read file\n",
    "df, meta = pyreadstat.read_dta(df_path)\n",
    "print(len(df['V200001'].unique())) # number of unique people who responded, should be equal to length of df before filtering\n",
    "\n",
    "# Keep only observations from respondents who say they intend to vote\n",
    "print(\"Shape before filtering:\", df.shape)\n",
    "df = df[df['V201032'].isin([1.])]\n",
    "print(\"Shape after filtering:\", df.shape)\n",
    "\n",
    "# Define the outcome of interest as 1 if the voter will vote for the Republicans, 0 otherwise\n",
    "df = df[(df['V201033'] != -9) & (df['V201033'] != -8)]\n",
    "trump_votes_count = df['V201033'].value_counts().get(2.0, 0)\n",
    "print(\"Number of people who prefer Trump:\", trump_votes_count)\n",
    "\n",
    "# Create binary outcome variable Y\n",
    "Y = df['V201033'].apply(lambda x: 1 if x == 2.0 else 0)\n",
    "\n",
    "find_unique('V201549x')\n",
    "\n",
    "# Filter out missing values from X_df based on indices of Y\n",
    "\"\"\"\n",
    "X_df = pd.DataFrame({\n",
    "    'Age': pd.to_numeric(df['V201507x'], errors='coerce'),\n",
    "    'College_Degree_or_Higher': df['V201510'].apply(lambda x: 1 if x in [\"6. Bachelor's degree (e.g. BA, AB, BS)\", \"7. Master's degree (e.g. MA, MS, MEng, MEd, MSW, MBA)\", \"4. Associate degree in college - occupational/vocational\", \"5. Associate degree in college - academic\"] else 0),\n",
    "    'Trust_in_Media': df['V201377'].apply(lambda x: 1 if (x == 5 or x == 4 or x == 3) else 0),\n",
    "    'Sex_Female': df['V201600'].apply(lambda x: 1 if x == '2. Female' else 0),\n",
    "    'Ethnicity_NonWhite': df['V201549x'].apply(lambda x: 1 if x == '1. White, non-Hispanic' else 0),\n",
    "    'Sexual_Orientation_Lgbtq': df['V201601'].apply(lambda x: 1 if (x == 2 or x == 3 or x == 4) else 0),\n",
    "})\n",
    "\"\"\"\n",
    "X_df = pd.DataFrame({\n",
    "    'Age': pd.to_numeric(df['V201507x'], errors='coerce'),\n",
    "    'College_Degree_or_Higher': df['V201510'].apply(lambda x: 1 if x in [6, 7, 4, 5] else 0),\n",
    "    'Trust_in_Media': df['V201377'].apply(lambda x: 1 if (x == 5 or x == 4 or x == 3) else 0),\n",
    "    'Sex_Female': df['V201600'].apply(lambda x: 1 if x == 2 else 0),\n",
    "    'Ethnicity_NonWhite': df['V201549x'].apply(lambda x: 1 if x == 1 else 0),\n",
    "    'Sexual_Orientation_Lgbtq': df['V201601'].apply(lambda x: 1 if (x == 2 or x == 3 or x == 4) else 0),\n",
    "})\n",
    "\n",
    "# Ensure consistent indices and drop missing values\n",
    "X_df = X_df.dropna()\n",
    "Y = Y.dropna()\n",
    "Y = Y.loc[X_df.index]\n",
    "print(f'size of Y: {len(Y)}')\n",
    "print(f'size of X_df: {len(X_df)}')\n",
    "\n",
    "# Create design matrix\n",
    "X_with_intercept = sm.add_constant(X_df)\n",
    "print(f'size of X_with_intercept: {len(X_with_intercept)}')\n",
    "\n",
    "print(X_with_intercept.head())"
   ]
  },
  {
   "cell_type": "code",
   "execution_count": 17,
   "metadata": {},
   "outputs": [
    {
     "name": "stdout",
     "output_type": "stream",
     "text": [
      "Variance Inflation Factors:\n",
      "const                       12.325642\n",
      "Age                          1.060887\n",
      "College_Degree_or_Higher     1.010899\n",
      "Trust_in_Media               1.039232\n",
      "Sex_Female                   1.003215\n",
      "Ethnicity_NonWhite           1.061881\n",
      "Sexual_Orientation_Lgbtq     1.020873\n",
      "dtype: float64\n"
     ]
    }
   ],
   "source": [
    "from statsmodels.stats.outliers_influence import variance_inflation_factor\n",
    "\n",
    "# Calculate VIF for each predictor variable\n",
    "vif_data = X_with_intercept.assign(const=1)\n",
    "vif_series = pd.Series([variance_inflation_factor(vif_data.values, i) \n",
    "                        for i in range(vif_data.shape[1])], \n",
    "                       index=vif_data.columns)\n",
    "\n",
    "print(\"Variance Inflation Factors:\")\n",
    "print(vif_series)\n"
   ]
  },
  {
   "cell_type": "code",
   "execution_count": 18,
   "metadata": {},
   "outputs": [
    {
     "name": "stdout",
     "output_type": "stream",
     "text": [
      "Optimization terminated successfully.\n",
      "         Current function value: 0.474917\n",
      "         Iterations 6\n"
     ]
    }
   ],
   "source": [
    "# Fit the model \n",
    "model = sm.Logit(Y, X_with_intercept).fit()"
   ]
  },
  {
   "cell_type": "code",
   "execution_count": 19,
   "metadata": {},
   "outputs": [
    {
     "name": "stdout",
     "output_type": "stream",
     "text": [
      "                           Logit Regression Results                           \n",
      "==============================================================================\n",
      "Dep. Variable:                V201033   No. Observations:                 7138\n",
      "Model:                          Logit   Df Residuals:                     7131\n",
      "Method:                           MLE   Df Model:                            6\n",
      "Date:                Tue, 05 Mar 2024   Pseudo R-squ.:                  0.3027\n",
      "Time:                        10:16:49   Log-Likelihood:                -3390.0\n",
      "converged:                       True   LL-Null:                       -4861.7\n",
      "Covariance Type:            nonrobust   LLR p-value:                     0.000\n",
      "============================================================================================\n",
      "                               coef    std err          z      P>|z|      [0.025      0.975]\n",
      "--------------------------------------------------------------------------------------------\n",
      "const                       -0.0691      0.104     -0.664      0.506      -0.273       0.135\n",
      "Age                          0.0120      0.002      7.720      0.000       0.009       0.015\n",
      "College_Degree_or_Higher    -0.4263      0.061     -6.959      0.000      -0.546      -0.306\n",
      "Trust_in_Media              -2.7521      0.065    -42.129      0.000      -2.880      -2.624\n",
      "Sex_Female                  -0.2512      0.061     -4.142      0.000      -0.370      -0.132\n",
      "Ethnicity_NonWhite           1.0004      0.074     13.557      0.000       0.856       1.145\n",
      "Sexual_Orientation_Lgbtq    -1.4761      0.154     -9.592      0.000      -1.778      -1.174\n",
      "============================================================================================\n"
     ]
    }
   ],
   "source": [
    "# Get summary results\n",
    "summary = model.summary()\n",
    "print(summary)"
   ]
  },
  {
   "cell_type": "code",
   "execution_count": 35,
   "metadata": {},
   "outputs": [
    {
     "data": {
      "text/plain": [
       "const                      -0.069116\n",
       "Age                         0.012011\n",
       "College_Degree_or_Higher   -0.426257\n",
       "Trust_in_Media             -2.752106\n",
       "Sex_Female                 -0.251244\n",
       "Ethnicity_NonWhite          1.000446\n",
       "Sexual_Orientation_Lgbtq   -1.476073\n",
       "dtype: float64"
      ]
     },
     "metadata": {},
     "output_type": "display_data"
    },
    {
     "data": {
      "text/html": [
       "<div>\n",
       "<style scoped>\n",
       "    .dataframe tbody tr th:only-of-type {\n",
       "        vertical-align: middle;\n",
       "    }\n",
       "\n",
       "    .dataframe tbody tr th {\n",
       "        vertical-align: top;\n",
       "    }\n",
       "\n",
       "    .dataframe thead th {\n",
       "        text-align: right;\n",
       "    }\n",
       "</style>\n",
       "<table border=\"1\" class=\"dataframe\">\n",
       "  <thead>\n",
       "    <tr style=\"text-align: right;\">\n",
       "      <th></th>\n",
       "      <th>const</th>\n",
       "      <th>Age</th>\n",
       "      <th>College_Degree_or_Higher</th>\n",
       "      <th>Trust_in_Media</th>\n",
       "      <th>Sex_Female</th>\n",
       "      <th>Ethnicity_NonWhite</th>\n",
       "      <th>Sexual_Orientation_Lgbtq</th>\n",
       "    </tr>\n",
       "  </thead>\n",
       "  <tbody>\n",
       "    <tr>\n",
       "      <th>const</th>\n",
       "      <td>0.010825</td>\n",
       "      <td>-1.035116e-04</td>\n",
       "      <td>-0.002098</td>\n",
       "      <td>-0.000420</td>\n",
       "      <td>-1.888064e-03</td>\n",
       "      <td>-0.003045</td>\n",
       "      <td>-0.002188</td>\n",
       "    </tr>\n",
       "    <tr>\n",
       "      <th>Age</th>\n",
       "      <td>-0.000104</td>\n",
       "      <td>2.420685e-06</td>\n",
       "      <td>0.000006</td>\n",
       "      <td>-0.000023</td>\n",
       "      <td>-2.627104e-07</td>\n",
       "      <td>-0.000016</td>\n",
       "      <td>0.000023</td>\n",
       "    </tr>\n",
       "    <tr>\n",
       "      <th>College_Degree_or_Higher</th>\n",
       "      <td>-0.002098</td>\n",
       "      <td>5.640243e-06</td>\n",
       "      <td>0.003752</td>\n",
       "      <td>0.000277</td>\n",
       "      <td>-6.388926e-05</td>\n",
       "      <td>-0.000405</td>\n",
       "      <td>0.000428</td>\n",
       "    </tr>\n",
       "    <tr>\n",
       "      <th>Trust_in_Media</th>\n",
       "      <td>-0.000420</td>\n",
       "      <td>-2.250010e-05</td>\n",
       "      <td>0.000277</td>\n",
       "      <td>0.004268</td>\n",
       "      <td>8.438820e-05</td>\n",
       "      <td>-0.000263</td>\n",
       "      <td>0.000534</td>\n",
       "    </tr>\n",
       "    <tr>\n",
       "      <th>Sex_Female</th>\n",
       "      <td>-0.001888</td>\n",
       "      <td>-2.627104e-07</td>\n",
       "      <td>-0.000064</td>\n",
       "      <td>0.000084</td>\n",
       "      <td>3.679932e-03</td>\n",
       "      <td>-0.000080</td>\n",
       "      <td>-0.000207</td>\n",
       "    </tr>\n",
       "    <tr>\n",
       "      <th>Ethnicity_NonWhite</th>\n",
       "      <td>-0.003045</td>\n",
       "      <td>-1.635838e-05</td>\n",
       "      <td>-0.000405</td>\n",
       "      <td>-0.000263</td>\n",
       "      <td>-8.015244e-05</td>\n",
       "      <td>0.005446</td>\n",
       "      <td>-0.000284</td>\n",
       "    </tr>\n",
       "    <tr>\n",
       "      <th>Sexual_Orientation_Lgbtq</th>\n",
       "      <td>-0.002188</td>\n",
       "      <td>2.265766e-05</td>\n",
       "      <td>0.000428</td>\n",
       "      <td>0.000534</td>\n",
       "      <td>-2.072090e-04</td>\n",
       "      <td>-0.000284</td>\n",
       "      <td>0.023682</td>\n",
       "    </tr>\n",
       "  </tbody>\n",
       "</table>\n",
       "</div>"
      ],
      "text/plain": [
       "                             const           Age  College_Degree_or_Higher  \\\n",
       "const                     0.010825 -1.035116e-04                 -0.002098   \n",
       "Age                      -0.000104  2.420685e-06                  0.000006   \n",
       "College_Degree_or_Higher -0.002098  5.640243e-06                  0.003752   \n",
       "Trust_in_Media           -0.000420 -2.250010e-05                  0.000277   \n",
       "Sex_Female               -0.001888 -2.627104e-07                 -0.000064   \n",
       "Ethnicity_NonWhite       -0.003045 -1.635838e-05                 -0.000405   \n",
       "Sexual_Orientation_Lgbtq -0.002188  2.265766e-05                  0.000428   \n",
       "\n",
       "                          Trust_in_Media    Sex_Female  Ethnicity_NonWhite  \\\n",
       "const                          -0.000420 -1.888064e-03           -0.003045   \n",
       "Age                            -0.000023 -2.627104e-07           -0.000016   \n",
       "College_Degree_or_Higher        0.000277 -6.388926e-05           -0.000405   \n",
       "Trust_in_Media                  0.004268  8.438820e-05           -0.000263   \n",
       "Sex_Female                      0.000084  3.679932e-03           -0.000080   \n",
       "Ethnicity_NonWhite             -0.000263 -8.015244e-05            0.005446   \n",
       "Sexual_Orientation_Lgbtq        0.000534 -2.072090e-04           -0.000284   \n",
       "\n",
       "                          Sexual_Orientation_Lgbtq  \n",
       "const                                    -0.002188  \n",
       "Age                                       0.000023  \n",
       "College_Degree_or_Higher                  0.000428  \n",
       "Trust_in_Media                            0.000534  \n",
       "Sex_Female                               -0.000207  \n",
       "Ethnicity_NonWhite                       -0.000284  \n",
       "Sexual_Orientation_Lgbtq                  0.023682  "
      ]
     },
     "metadata": {},
     "output_type": "display_data"
    }
   ],
   "source": [
    "# Extract the coefficients (betas) and their covariance matrix from the logistic regression fit\n",
    "beta_mean = model.params\n",
    "beta_cov = model.cov_params()\n",
    "display(beta_mean)\n",
    "display(beta_cov)"
   ]
  },
  {
   "cell_type": "code",
   "execution_count": 21,
   "metadata": {},
   "outputs": [],
   "source": [
    "# Number of simulations\n",
    "n_simulations = 1000\n",
    "\n",
    "# Simulate beta coefficients:\n",
    "\n",
    "# on the log-odds scale\n",
    "simulated_base_log_odds = multivariate_normal.rvs(mean=beta_mean, cov=beta_cov, size=n_simulations)\n",
    "\n",
    "# on the odds scale\n",
    "simulated_base_odds = np.exp(simulated_base_log_odds)\n",
    "\n",
    "# on the probability scale\n",
    "simulated_base_prob = logistic_sigmoid(simulated_base_log_odds)\n",
    "\n",
    "# simulations array\n",
    "simulated_base = np.stack((simulated_base_log_odds, simulated_base_odds, simulated_base_prob), axis=1)"
   ]
  },
  {
   "cell_type": "code",
   "execution_count": 32,
   "metadata": {},
   "outputs": [
    {
     "ename": "SyntaxError",
     "evalue": "f-string: invalid syntax (2155074747.py, line 24)",
     "output_type": "error",
     "traceback": [
      "\u001b[1;36m  Cell \u001b[1;32mIn[32], line 24\u001b[1;36m\u001b[0m\n\u001b[1;33m    ax.axvline(float(medians[i][0]), color='orange', linestyle='-', label=f'Median: {float(medians[i][0]:.2f)}')\u001b[0m\n\u001b[1;37m                    ^\u001b[0m\n\u001b[1;31mSyntaxError\u001b[0m\u001b[1;31m:\u001b[0m f-string: invalid syntax\n"
     ]
    }
   ],
   "source": [
    "import numpy as np\n",
    "import matplotlib.pyplot as plt\n",
    "\n",
    "# Calculate statistics for each coefficient\n",
    "medians = np.median(simulated_base, axis=0)\n",
    "lower_quantiles = np.percentile(simulated_base, 5, axis=0)\n",
    "upper_quantiles = np.percentile(simulated_base, 95, axis=0)\n",
    "references = [0, 1, 0.5]  # Reference values for log-odds, odds, probability\n",
    "prob_positive = [np.mean(simulated_base[:, i] > references[i]) for i in range(3)]\n",
    "\n",
    "# Plot names \n",
    "col_names = ['Log-Odds', 'Odds', 'Probability']\n",
    "\n",
    "# Plot histograms of each metric\n",
    "fig, axs = plt.subplots(2, 2, figsize=(15, 10))  # Adjust for the number of metrics\n",
    "axs = axs.flatten()\n",
    "\n",
    "for i in range(len(col_names)):\n",
    "    ax = axs[i]\n",
    "    ax.hist(simulated_base[:, i], bins=30, density=True, alpha=0.7)\n",
    "    \n",
    "    # Add vertical lines for reference, median, and 90% interval\n",
    "    ax.axvline(references[i], color='red', linestyle='-', label=f'Reference: {references[i]}')\n",
    "    ax.axvline(float(medians[i][0]), color='orange', linestyle='-', label=f'Median: {float(medians[i][0]:.2f)}')\n",
    "    ax.axvline(lower_quantiles[i], color='orange', linestyle='--', label=f'5th Percentile: {lower_quantiles[i]:.2f}')\n",
    "    ax.axvline(upper_quantiles[i], color='orange', linestyle='--', label=f'95th Percentile: {upper_quantiles[i]:.2f}')\n",
    "    ax.text(0.05, 0.95, f'Prob > Ref: {prob_positive[i]*100:.1f}%', transform=ax.transAxes, verticalalignment='top')\n",
    "    \n",
    "    ax.set_title(f'Average {col_names[i]} of Voting Republican')\n",
    "    ax.set_ylabel('Density')\n",
    "    ax.legend(loc='upper right')\n",
    "\n",
    "# Hide empty subplot for uneven number of metrics\n",
    "if len(col_names) % 2 != 0:\n",
    "    axs[-1].axis('off')\n",
    "    \n",
    "plt.tight_layout()\n",
    "plt.show()\n"
   ]
  },
  {
   "cell_type": "code",
   "execution_count": null,
   "metadata": {},
   "outputs": [],
   "source": [
    "aic = model.aic\n",
    "print(\"AIC:\", aic)"
   ]
  },
  {
   "cell_type": "code",
   "execution_count": 33,
   "metadata": {},
   "outputs": [
    {
     "name": "stdout",
     "output_type": "stream",
     "text": [
      "Classification Report:\n",
      "              precision    recall  f1-score   support\n",
      "\n",
      "           0       0.83      0.81      0.82      1206\n",
      "           1       0.76      0.79      0.78       936\n",
      "\n",
      "    accuracy                           0.80      2142\n",
      "   macro avg       0.80      0.80      0.80      2142\n",
      "weighted avg       0.80      0.80      0.80      2142\n",
      "\n",
      "\n",
      "Confusion Matrix:\n",
      "[[974 232]\n",
      " [196 740]]\n",
      "Accuracy:  0.8002\n"
     ]
    }
   ],
   "source": [
    "def logistic_regression(X, y, test_size=0.2, random_state=None):\n",
    "    # Split data into train and test sets\n",
    "    X_train, X_test, y_train, y_test = train_test_split(X, y, test_size=test_size, random_state=random_state)\n",
    "\n",
    "    # Initialize logistic regression model\n",
    "    log_reg_model = LogisticRegression()\n",
    "\n",
    "    # Fit the model on the training data\n",
    "    log_reg_model.fit(X_train, y_train)\n",
    "\n",
    "    # Predictions on the test data\n",
    "    y_pred = log_reg_model.predict(X_test)\n",
    "\n",
    "    # Evaluate the model\n",
    "    classification_rep = classification_report(y_test, y_pred)\n",
    "    conf_matrix = confusion_matrix(y_test, y_pred)\n",
    "    accuracy = accuracy_score(y_test, y_pred)\n",
    "\n",
    "    return classification_rep, conf_matrix, accuracy\n",
    "\n",
    "classification_rep, conf_matrix, accuracy = logistic_regression(X_with_intercept, Y, test_size=0.3, random_state=420)\n",
    "print(\"Classification Report:\")\n",
    "print(classification_rep)\n",
    "print(\"\\nConfusion Matrix:\")\n",
    "print(conf_matrix)\n",
    "print(f'Accuracy:  {accuracy:.4f}')"
   ]
  }
 ],
 "metadata": {
  "kernelspec": {
   "display_name": "Python 3 (ipykernel)",
   "language": "python",
   "name": "python3"
  },
  "language_info": {
   "codemirror_mode": {
    "name": "ipython",
    "version": 3
   },
   "file_extension": ".py",
   "mimetype": "text/x-python",
   "name": "python",
   "nbconvert_exporter": "python",
   "pygments_lexer": "ipython3",
   "version": "3.9.12"
  }
 },
 "nbformat": 4,
 "nbformat_minor": 4
}
