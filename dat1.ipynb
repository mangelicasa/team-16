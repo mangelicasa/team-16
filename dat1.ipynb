{
 "cells": [
  {
   "cell_type": "code",
   "execution_count": 21,
   "metadata": {},
   "outputs": [
    {
     "name": "stdout",
     "output_type": "stream",
     "text": [
      "                       version   V200001  V160001_orig  V200002  V200003  \\\n",
      "0  ANES2020TimeSeries_20210324  200015.0      401318.0      3.0      2.0   \n",
      "1  ANES2020TimeSeries_20210324  200022.0      300261.0      3.0      2.0   \n",
      "2  ANES2020TimeSeries_20210324  200039.0      400181.0      3.0      2.0   \n",
      "3  ANES2020TimeSeries_20210324  200046.0      300171.0      3.0      2.0   \n",
      "4  ANES2020TimeSeries_20210324  200053.0      405145.0      3.0      2.0   \n",
      "\n",
      "   V200004  V200005  V200010a  V200010b  V200010c  ...  V202626  V202627  \\\n",
      "0     -2.0      0.0  0.827932  0.611133       2.0  ...     -1.0     -1.0   \n",
      "1     -2.0      0.0  1.087641  1.209783       2.0  ...     -1.0     -1.0   \n",
      "2     -2.0      0.0  0.671765  0.823936       1.0  ...     -1.0     -1.0   \n",
      "3     -2.0      0.0  0.491910  0.512837       2.0  ...     -1.0     -1.0   \n",
      "4     -2.0      1.0  1.189965  0.856575       1.0  ...     -1.0     -1.0   \n",
      "\n",
      "   V202628  V202629  V202630  V202631  V202632  V202633  V202634  V202635  \n",
      "0     -1.0     -1.0     -1.0     -1.0     -1.0     -1.0     -1.0     -1.0  \n",
      "1     -1.0     -1.0     -1.0     -1.0     -1.0     -1.0     -1.0     -1.0  \n",
      "2     -1.0     -1.0     -1.0     -1.0     -1.0     -1.0     -1.0     -1.0  \n",
      "3     -1.0     -1.0     -1.0     -1.0     -1.0     -1.0     -1.0     -1.0  \n",
      "4     -1.0     -1.0     -1.0     -1.0     -1.0     -1.0     -1.0     -1.0  \n",
      "\n",
      "[5 rows x 1381 columns]\n",
      "11434680\n",
      "(8280, 1381)\n"
     ]
    }
   ],
   "source": [
    "#!pip install pyreadstat\n",
    "import pyreadstat\n",
    "import pandas as pd\n",
    "\n",
    "df_path = \"anes_timeseries_2020_stata_20210324.dta\"\n",
    "\n",
    "df, meta = pyreadstat.read_dta(df_path)\n",
    "print(df.head())\n",
    "print(df.size)\n",
    "print(df.shape)\n"
   ]
  }
 ],
 "metadata": {
  "kernelspec": {
   "display_name": "Python 3 (ipykernel)",
   "language": "python",
   "name": "python3"
  },
  "language_info": {
   "codemirror_mode": {
    "name": "ipython",
    "version": 3
   },
   "file_extension": ".py",
   "mimetype": "text/x-python",
   "name": "python",
   "nbconvert_exporter": "python",
   "pygments_lexer": "ipython3",
   "version": "3.9.18"
  }
 },
 "nbformat": 4,
 "nbformat_minor": 2
}
